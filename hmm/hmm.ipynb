{
 "cells": [
  {
   "cell_type": "code",
   "execution_count": 154,
   "source": [
    "import numpy as np\n",
    "import collections"
   ],
   "outputs": [],
   "metadata": {}
  },
  {
   "cell_type": "code",
   "execution_count": 155,
   "source": [
    "def read(dataset_year: str, max_docs_count:int = None):\n",
    "  is_text = False\n",
    "  docs_count = 0\n",
    "\n",
    "  with open(f'dataset/cg.Folha.{dataset_year}', encoding='windows-1252') as file: \n",
    "    for line in file:\n",
    "      if line.startswith('<DOC>'):\n",
    "        docs_count += 1\n",
    "      \n",
    "      if docs_count > max_docs_count:\n",
    "        break\n",
    "\n",
    "      if line.startswith('<s>'):\n",
    "        is_text = True\n",
    "        continue\n",
    "      if line.startswith('</s>'):\n",
    "        is_text = False\n",
    "        continue\n",
    "\n",
    "      splitted_line = line.split('\\t')\n",
    "      is_valid_line = len(splitted_line) == 2\n",
    "\n",
    "      if is_text and is_valid_line: \n",
    "        yield (splitted_line[0], splitted_line[1])"
   ],
   "outputs": [],
   "metadata": {}
  },
  {
   "cell_type": "code",
   "execution_count": 156,
   "source": [
    "def parse(word: str, word_info: str):  \n",
    "  word_class = word_info.split()[1]\n",
    "  \n",
    "  return (word, word_class)\n"
   ],
   "outputs": [],
   "metadata": {}
  },
  {
   "cell_type": "code",
   "execution_count": 157,
   "source": [
    "parsed_words = [parse(word, word_info) for word, word_info in read('1994', max_docs_count=1)]\n",
    "\n",
    "word_class_counter = collections.Counter(parsed_words)\n",
    "word_class_counter"
   ],
   "outputs": [
    {
     "output_type": "execute_result",
     "data": {
      "text/plain": [
       "Counter({('Pesquisa=Datafolha', 'PROP'): 1,\n",
       "         ('feita', 'V'): 1,\n",
       "         ('em', 'PRP'): 2,\n",
       "         ('as', 'DET'): 1,\n",
       "         ('dez', 'NUM'): 1,\n",
       "         ('principais', 'ADJ'): 1,\n",
       "         ('capitais', 'N'): 1,\n",
       "         ('de', 'PRP'): 13,\n",
       "         ('o', 'DET'): 5,\n",
       "         ('país', 'N'): 1,\n",
       "         ('após', 'PRP'): 1,\n",
       "         ('um', 'NUM'): 1,\n",
       "         ('ano', 'N'): 1,\n",
       "         ('mandato', 'N'): 1,\n",
       "         ('aponta', 'V'): 1,\n",
       "         ('prefeito', 'N'): 1,\n",
       "         ('Recife', 'PROP'): 1,\n",
       "         ('Jarbas=Vasconcelos', 'PROP'): 1,\n",
       "         ('$(', 'PU'): 6,\n",
       "         ('PMDB', 'PROP'): 2,\n",
       "         ('$)', 'PU'): 6,\n",
       "         ('como', 'ADV'): 1,\n",
       "         ('mais', 'ADV'): 1,\n",
       "         ('popular', 'ADJ'): 1,\n",
       "         ('63', 'NUM'): 1,\n",
       "         ('ótimo', 'ADJ'): 1,\n",
       "         ('e', 'N'): 2,\n",
       "         ('bom', 'ADJ'): 1,\n",
       "         ('seguido', 'V'): 1,\n",
       "         ('Tarso=Genro', 'PROP'): 1,\n",
       "         ('PT', 'PROP'): 1,\n",
       "         ('Porto=Alegre', 'PROP'): 1,\n",
       "         ('com', 'PRP'): 4,\n",
       "         ('55', 'NUM'): 1,\n",
       "         ('aprovação', 'N'): 1,\n",
       "         ('$.', 'PU'): 3,\n",
       "         ('$¶', 'PU'): 4,\n",
       "         ('Os', 'DET'): 1,\n",
       "         ('prefeitos', 'N'): 1,\n",
       "         ('César=Maia', 'PROP'): 1,\n",
       "         ('Rio', 'PROP'): 1,\n",
       "         ('50', 'NUM'): 1,\n",
       "         ('ruim', 'ADJ'): 1,\n",
       "         ('péssimo', 'ADJ'): 1,\n",
       "         ('$;', 'PU'): 1,\n",
       "         ('Lídice=da=Mata', 'PROP'): 1,\n",
       "         ('PSDB', 'N'): 1,\n",
       "         ('Salvador', 'PROP'): 1,\n",
       "         ('48', 'NUM'): 1,\n",
       "         ('e', 'KC'): 2,\n",
       "         ('Paulo=Maluf', 'PROP'): 1,\n",
       "         ('PPR', 'PROP'): 1,\n",
       "         ('São=Paulo', 'PROP'): 2,\n",
       "         ('41', 'NUM'): 1,\n",
       "         ('tiveram', 'V'): 1,\n",
       "         ('a', 'DET'): 2,\n",
       "         ('pior', 'ADJ'): 1,\n",
       "         ('avaliação', 'N'): 1,\n",
       "         ('A', 'DET'): 1,\n",
       "         ('PF', 'PROP'): 1,\n",
       "         ('vai', 'V'): 1,\n",
       "         ('investigar', 'V'): 1,\n",
       "         ('pagamentos', 'N'): 1,\n",
       "         ('Prefeitura', '<prop>'): 1,\n",
       "         ('a', 'PRP'): 1,\n",
       "         ('construtoras', 'N'): 1,\n",
       "         ('citadas', 'V'): 1,\n",
       "         ('caso', 'N'): 1,\n",
       "         ('Paubrasil', 'PROP'): 1,\n",
       "         ('Brasil', 'PROP'): 1,\n",
       "         ('Cotidiano', 'PROP'): 1})"
      ]
     },
     "metadata": {},
     "execution_count": 157
    }
   ],
   "metadata": {}
  }
 ],
 "metadata": {
  "orig_nbformat": 4,
  "language_info": {
   "name": "python",
   "version": "3.9.0",
   "mimetype": "text/x-python",
   "codemirror_mode": {
    "name": "ipython",
    "version": 3
   },
   "pygments_lexer": "ipython3",
   "nbconvert_exporter": "python",
   "file_extension": ".py"
  },
  "kernelspec": {
   "name": "python3",
   "display_name": "Python 3.9.0 64-bit"
  },
  "interpreter": {
   "hash": "aee8b7b246df8f9039afb4144a1f6fd8d2ca17a180786b69acc140d282b71a49"
  }
 },
 "nbformat": 4,
 "nbformat_minor": 2
}