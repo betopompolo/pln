{
 "cells": [
  {
   "cell_type": "code",
   "execution_count": 176,
   "source": [
    "import collections\n",
    "import itertools"
   ],
   "outputs": [],
   "metadata": {}
  },
  {
   "cell_type": "code",
   "execution_count": 177,
   "source": [
    "sos = '<s>'\n",
    "eos = '</s>'\n",
    "def read_docs(dataset_year: str, max_docs_count: int):\n",
    "  is_doc = False\n",
    "  docs_count = 0\n",
    "\n",
    "  with open(f'dataset/cg.Folha.{dataset_year}', encoding='windows-1252') as file: \n",
    "    for line in file:\n",
    "      if docs_count >= max_docs_count:\n",
    "        break\n",
    "\n",
    "      if line.startswith('<DOC>'):\n",
    "        is_doc = True\n",
    "        continue\n",
    "\n",
    "      if line.startswith('</DOC>'):\n",
    "        is_doc = False\n",
    "        docs_count += 1\n",
    "        continue\n",
    "\n",
    "      if is_doc is False:\n",
    "        continue\n",
    "\n",
    "      if line.startswith(sos):\n",
    "        yield (sos, sos)\n",
    "      elif line.startswith(eos):\n",
    "        yield (eos, eos)\n",
    "      else:\n",
    "        splitted_line = line.split('\\t')\n",
    "        if len(splitted_line) == 2:\n",
    "          word = splitted_line[0]\n",
    "          tag = splitted_line[1].split()[1]\n",
    "          yield (word, tag)"
   ],
   "outputs": [],
   "metadata": {}
  },
  {
   "cell_type": "code",
   "execution_count": 178,
   "source": [
    "def get_transition_counter(tags):\n",
    "  current_it, next_it = itertools.tee(tags)\n",
    "  next(next_it)\n",
    "\n",
    "  counter = collections.Counter(list(zip(current_it, next_it)))\n",
    "\n",
    "  return counter"
   ],
   "outputs": [],
   "metadata": {}
  },
  {
   "cell_type": "code",
   "execution_count": 179,
   "source": [
    "def train(dataset):\n",
    "  word_tag_counter = collections.Counter() # TODO: Counter 'B'\n",
    "  tag_counter = collections.Counter() # TODO: Counter 'B'\n",
    "  transition_counter = collections.Counter() # TODO: Counter 'A'\n",
    "  sentence_tags = []\n",
    "\n",
    "  for word, tag in dataset:\n",
    "    tag_counter.update({ tag: 1 })\n",
    "    word_tag_counter.update({ (word, tag): 1 })\n",
    "    \n",
    "    sentence_tags.append(tag)\n",
    "    if tag == eos:\n",
    "      transition_counter += get_transition_counter(sentence_tags)\n",
    "      sentence_tags = []\n",
    "\n",
    "  return {\n",
    "    'word_tag_counter': word_tag_counter,\n",
    "    'tag_counter': tag_counter,\n",
    "    'transition_counter': transition_counter\n",
    "  }"
   ],
   "outputs": [],
   "metadata": {}
  },
  {
   "cell_type": "code",
   "execution_count": 180,
   "source": [
    "def emission_probability(model, word_tag):\n",
    "  return model['word_tag_counter'][word_tag] / model['tag_counter'][word_tag[1]]"
   ],
   "outputs": [],
   "metadata": {}
  },
  {
   "cell_type": "code",
   "execution_count": 181,
   "source": [
    "def transition_probability(model, tag_transition):\n",
    "  return model['transition_counter'][tag_transition] / model['tag_counter'][tag_transition[0]]"
   ],
   "outputs": [],
   "metadata": {}
  },
  {
   "cell_type": "code",
   "execution_count": 182,
   "source": [
    "def initial_probability(model):\n",
    "  initial_prob = { sos: 1 }\n",
    "  for tag in model['tag_counter'].keys():\n",
    "    if tag == sos:\n",
    "      continue\n",
    "    \n",
    "    initial_prob.update({ tag: 0 })\n",
    "\n",
    "  return initial_prob"
   ],
   "outputs": [],
   "metadata": {}
  }
 ],
 "metadata": {
  "orig_nbformat": 4,
  "language_info": {
   "name": "python",
   "version": "3.9.0",
   "mimetype": "text/x-python",
   "codemirror_mode": {
    "name": "ipython",
    "version": 3
   },
   "pygments_lexer": "ipython3",
   "nbconvert_exporter": "python",
   "file_extension": ".py"
  },
  "kernelspec": {
   "name": "python3",
   "display_name": "Python 3.9.0 64-bit"
  },
  "interpreter": {
   "hash": "aee8b7b246df8f9039afb4144a1f6fd8d2ca17a180786b69acc140d282b71a49"
  }
 },
 "nbformat": 4,
 "nbformat_minor": 2
}