{
 "cells": [
  {
   "cell_type": "code",
   "execution_count": 166,
   "source": [
    "import numpy as np\n",
    "import collections"
   ],
   "outputs": [],
   "metadata": {}
  },
  {
   "cell_type": "code",
   "execution_count": 167,
   "source": [
    "def read(dataset_year: str, max_docs_count:int = None):\n",
    "  is_text = False\n",
    "  docs_count = 0\n",
    "\n",
    "  with open(f'dataset/cg.Folha.{dataset_year}', encoding='windows-1252') as file: \n",
    "    for line in file:\n",
    "      if line.startswith('<DOC>'):\n",
    "        docs_count += 1\n",
    "      \n",
    "      if docs_count > max_docs_count:\n",
    "        break\n",
    "\n",
    "      if line.startswith('<s>'):\n",
    "        is_text = True\n",
    "        continue\n",
    "      if line.startswith('</s>'):\n",
    "        is_text = False\n",
    "        continue\n",
    "\n",
    "      splitted_line = line.split('\\t')\n",
    "      is_valid_line = len(splitted_line) == 2\n",
    "\n",
    "      if is_text and is_valid_line: \n",
    "        yield (splitted_line[0], splitted_line[1])"
   ],
   "outputs": [],
   "metadata": {}
  },
  {
   "cell_type": "code",
   "execution_count": 168,
   "source": [
    "def parse(word: str, word_info: str):  \n",
    "  tag = word_info.split()[1]\n",
    "  \n",
    "  return (word, tag)\n"
   ],
   "outputs": [],
   "metadata": {}
  },
  {
   "cell_type": "code",
   "execution_count": 169,
   "source": [
    "parsed_words = [parse(word, word_info) for word, word_info in read('1994', max_docs_count=1)]\n",
    "\n",
    "word_tag_counter = collections.Counter(parsed_words)\n",
    "tag_counter = collections.Counter([tag for _, tag in word_tag_counter])\n",
    "tag_counter"
   ],
   "outputs": [
    {
     "output_type": "execute_result",
     "data": {
      "text/plain": [
       "Counter({'PROP': 18,\n",
       "         'V': 7,\n",
       "         'PRP': 5,\n",
       "         'DET': 5,\n",
       "         'NUM': 7,\n",
       "         'ADJ': 7,\n",
       "         'N': 13,\n",
       "         'PU': 5,\n",
       "         'ADV': 2,\n",
       "         'KC': 1,\n",
       "         '<prop>': 1})"
      ]
     },
     "metadata": {},
     "execution_count": 169
    }
   ],
   "metadata": {}
  }
 ],
 "metadata": {
  "orig_nbformat": 4,
  "language_info": {
   "name": "python",
   "version": "3.9.0",
   "mimetype": "text/x-python",
   "codemirror_mode": {
    "name": "ipython",
    "version": 3
   },
   "pygments_lexer": "ipython3",
   "nbconvert_exporter": "python",
   "file_extension": ".py"
  },
  "kernelspec": {
   "name": "python3",
   "display_name": "Python 3.9.0 64-bit"
  },
  "interpreter": {
   "hash": "aee8b7b246df8f9039afb4144a1f6fd8d2ca17a180786b69acc140d282b71a49"
  }
 },
 "nbformat": 4,
 "nbformat_minor": 2
}