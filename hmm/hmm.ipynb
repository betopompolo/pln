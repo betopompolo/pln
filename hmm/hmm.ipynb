{
 "cells": [
  {
   "cell_type": "code",
   "execution_count": 1,
   "source": [
    "import collections\n",
    "import itertools"
   ],
   "outputs": [],
   "metadata": {}
  },
  {
   "cell_type": "code",
   "execution_count": 2,
   "source": [
    "sos = '<s>'\n",
    "eos = '</s>'\n",
    "def read_docs(dataset_year: str, max_docs_count: int):\n",
    "  is_doc = False\n",
    "  docs_count = 0\n",
    "\n",
    "  with open(f'dataset/cg.Folha.{dataset_year}', encoding='windows-1252') as file: \n",
    "    for line in file:\n",
    "      if docs_count >= max_docs_count:\n",
    "        break\n",
    "\n",
    "      if line.startswith('<DOC>'):\n",
    "        is_doc = True\n",
    "        continue\n",
    "\n",
    "      if line.startswith('</DOC>'):\n",
    "        is_doc = False\n",
    "        docs_count += 1\n",
    "        continue\n",
    "\n",
    "      if is_doc is False:\n",
    "        continue\n",
    "\n",
    "      if line.startswith(sos):\n",
    "        yield (sos, sos)\n",
    "      elif line.startswith(eos):\n",
    "        yield (eos, eos)\n",
    "      else:\n",
    "        splitted_line = line.split('\\t')\n",
    "        if len(splitted_line) == 2:\n",
    "          word = splitted_line[0]\n",
    "          tag = splitted_line[1].split()[1]\n",
    "          yield (word, tag)"
   ],
   "outputs": [],
   "metadata": {}
  },
  {
   "cell_type": "code",
   "execution_count": 3,
   "source": [
    "def get_transition_counter(tags):\n",
    "  current_it, next_it = itertools.tee(tags)\n",
    "  next(next_it)\n",
    "\n",
    "  counter = collections.Counter(list(zip(current_it, next_it)))\n",
    "\n",
    "  return counter"
   ],
   "outputs": [],
   "metadata": {}
  },
  {
   "cell_type": "code",
   "execution_count": 4,
   "source": [
    "word_tag_counter = collections.Counter()\n",
    "tag_counter = collections.Counter()\n",
    "transition_counter = collections.Counter()\n",
    "sentence_tags = []\n",
    "\n",
    "for word, tag in read_docs('1994', max_docs_count=1):\n",
    "  tag_counter.update({ tag: 1 })\n",
    "  word_tag_counter.update({ (word, tag): 1 })\n",
    "  \n",
    "  sentence_tags.append(tag)\n",
    "  if tag == eos:\n",
    "    transition_counter += get_transition_counter(sentence_tags)\n",
    "    sentence_tags = []\n",
    "\n",
    "\n",
    "transition_counter\n",
    "\n"
   ],
   "outputs": [
    {
     "output_type": "execute_result",
     "data": {
      "text/plain": [
       "Counter({('<s>', 'PROP'): 2,\n",
       "         ('PROP', 'V'): 2,\n",
       "         ('V', 'PRP'): 3,\n",
       "         ('PRP', 'DET'): 5,\n",
       "         ('DET', 'NUM'): 1,\n",
       "         ('NUM', 'ADJ'): 1,\n",
       "         ('ADJ', 'N'): 4,\n",
       "         ('N', 'PRP'): 5,\n",
       "         ('DET', 'N'): 4,\n",
       "         ('PRP', 'NUM'): 5,\n",
       "         ('NUM', 'N'): 1,\n",
       "         ('PRP', 'N'): 3,\n",
       "         ('N', 'V'): 2,\n",
       "         ('V', 'DET'): 2,\n",
       "         ('PRP', 'PROP'): 6,\n",
       "         ('PROP', 'PROP'): 1,\n",
       "         ('PROP', 'PU'): 11,\n",
       "         ('PU', 'PROP'): 5,\n",
       "         ('PU', 'ADV'): 1,\n",
       "         ('ADV', 'DET'): 1,\n",
       "         ('DET', 'ADV'): 1,\n",
       "         ('ADV', 'ADJ'): 1,\n",
       "         ('ADJ', 'PU'): 3,\n",
       "         ('PU', 'NUM'): 1,\n",
       "         ('NUM', 'PRP'): 3,\n",
       "         ('PRP', 'ADJ'): 2,\n",
       "         ('N', 'ADJ'): 2,\n",
       "         ('PU', 'V'): 1,\n",
       "         ('PU', 'PRP'): 4,\n",
       "         ('PROP', 'PRP'): 5,\n",
       "         ('N', 'PU'): 3,\n",
       "         ('PU', 'PU'): 3,\n",
       "         ('PU', '</s>'): 4,\n",
       "         ('<s>', 'DET'): 2,\n",
       "         ('N', 'PROP'): 2,\n",
       "         ('DET', 'PROP'): 2,\n",
       "         ('PU', 'N'): 1,\n",
       "         ('NUM', 'KC'): 1,\n",
       "         ('KC', 'PROP'): 2,\n",
       "         ('NUM', 'V'): 1,\n",
       "         ('DET', 'ADJ'): 1,\n",
       "         ('V', 'V'): 1,\n",
       "         ('V', 'N'): 1,\n",
       "         ('DET', '<prop>'): 1,\n",
       "         ('<prop>', 'PRP'): 1,\n",
       "         ('PROP', 'KC'): 1})"
      ]
     },
     "metadata": {},
     "execution_count": 4
    }
   ],
   "metadata": {}
  }
 ],
 "metadata": {
  "orig_nbformat": 4,
  "language_info": {
   "name": "python",
   "version": "3.9.0",
   "mimetype": "text/x-python",
   "codemirror_mode": {
    "name": "ipython",
    "version": 3
   },
   "pygments_lexer": "ipython3",
   "nbconvert_exporter": "python",
   "file_extension": ".py"
  },
  "kernelspec": {
   "name": "python3",
   "display_name": "Python 3.9.0 64-bit"
  },
  "interpreter": {
   "hash": "aee8b7b246df8f9039afb4144a1f6fd8d2ca17a180786b69acc140d282b71a49"
  }
 },
 "nbformat": 4,
 "nbformat_minor": 2
}