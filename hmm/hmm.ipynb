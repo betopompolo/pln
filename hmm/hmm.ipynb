{
 "cells": [
  {
   "cell_type": "code",
   "execution_count": 50,
   "source": [
    "import collections\n",
    "import itertools"
   ],
   "outputs": [],
   "metadata": {}
  },
  {
   "cell_type": "code",
   "execution_count": 51,
   "source": [
    "sos = '<s>'\n",
    "eos = '</s>'\n",
    "def read_docs(dataset_year: str, max_docs_count: int):\n",
    "  is_doc = False\n",
    "  docs_count = 0\n",
    "\n",
    "  with open(f'dataset/cg.Folha.{dataset_year}', encoding='windows-1252') as file: \n",
    "    for line in file:\n",
    "      if docs_count >= max_docs_count:\n",
    "        break\n",
    "\n",
    "      if line.startswith('<DOC>'):\n",
    "        is_doc = True\n",
    "        continue\n",
    "\n",
    "      if line.startswith('</DOC>'):\n",
    "        is_doc = False\n",
    "        docs_count += 1\n",
    "        continue\n",
    "\n",
    "      if is_doc is False:\n",
    "        continue\n",
    "\n",
    "      if line.startswith(sos):\n",
    "        yield (sos, sos)\n",
    "      elif line.startswith(eos):\n",
    "        yield (eos, eos)\n",
    "      else:\n",
    "        splitted_line = line.split('\\t')\n",
    "        if len(splitted_line) == 2:\n",
    "          word = splitted_line[0]\n",
    "          tag = splitted_line[1].split()[1]\n",
    "          yield (word, tag)"
   ],
   "outputs": [],
   "metadata": {}
  },
  {
   "cell_type": "code",
   "execution_count": 52,
   "source": [
    "word_tag_counter = collections.Counter()\n",
    "tag_counter = collections.Counter()\n",
    "\n",
    "for word, tag in read_docs('1994', max_docs_count=1):\n",
    "  tag_counter.update({ tag: 1 })\n",
    "  word_tag_counter.update({ (word, tag): 1 })\n",
    "\n",
    "tag_counter\n",
    "\n"
   ],
   "outputs": [
    {
     "output_type": "execute_result",
     "data": {
      "text/plain": [
       "Counter({'<s>': 4,\n",
       "         'PROP': 20,\n",
       "         'V': 7,\n",
       "         'PRP': 21,\n",
       "         'DET': 10,\n",
       "         'NUM': 7,\n",
       "         'ADJ': 7,\n",
       "         'N': 14,\n",
       "         'PU': 21,\n",
       "         'ADV': 2,\n",
       "         '</s>': 4,\n",
       "         'KC': 2,\n",
       "         '<prop>': 1})"
      ]
     },
     "metadata": {},
     "execution_count": 52
    }
   ],
   "metadata": {}
  }
 ],
 "metadata": {
  "orig_nbformat": 4,
  "language_info": {
   "name": "python",
   "version": "3.9.0",
   "mimetype": "text/x-python",
   "codemirror_mode": {
    "name": "ipython",
    "version": 3
   },
   "pygments_lexer": "ipython3",
   "nbconvert_exporter": "python",
   "file_extension": ".py"
  },
  "kernelspec": {
   "name": "python3",
   "display_name": "Python 3.9.0 64-bit"
  },
  "interpreter": {
   "hash": "aee8b7b246df8f9039afb4144a1f6fd8d2ca17a180786b69acc140d282b71a49"
  }
 },
 "nbformat": 4,
 "nbformat_minor": 2
}